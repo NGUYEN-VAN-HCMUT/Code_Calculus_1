{
  "nbformat": 4,
  "nbformat_minor": 0,
  "metadata": {
    "colab": {
      "name": "Integrals_Derivatives.ipynb",
      "provenance": [],
      "authorship_tag": "ABX9TyPT9G0oBroSS3spZ3xcSDgA",
      "include_colab_link": true
    },
    "kernelspec": {
      "name": "python3",
      "display_name": "Python 3"
    }
  },
  "cells": [
    {
      "cell_type": "markdown",
      "metadata": {
        "id": "view-in-github",
        "colab_type": "text"
      },
      "source": [
        "<a href=\"https://colab.research.google.com/github/NGUYEN-VAN-HCMUT/Code_Calculus_1/blob/master/Integrals_Derivatives.ipynb\" target=\"_parent\"><img src=\"https://colab.research.google.com/assets/colab-badge.svg\" alt=\"Open In Colab\"/></a>"
      ]
    },
    {
      "cell_type": "markdown",
      "metadata": {
        "id": "cf1E11EQ1fqf",
        "colab_type": "text"
      },
      "source": [
        "Calculus "
      ]
    },
    {
      "cell_type": "code",
      "metadata": {
        "id": "XTbbHB5azg0M",
        "colab_type": "code",
        "colab": {}
      },
      "source": [
        "import sympy\n",
        "sympy.init_printing()\n",
        "from sympy import I, pi, oo\n",
        "x = sympy.Symbol(\"x\")\n",
        "y = sympy.Symbol(\"y\")\n",
        "z = sympy.Symbol(\"z\")"
      ],
      "execution_count": 17,
      "outputs": []
    },
    {
      "cell_type": "markdown",
      "metadata": {
        "id": "LKsO-Gfj0IKe",
        "colab_type": "text"
      },
      "source": [
        "Derivatives"
      ]
    },
    {
      "cell_type": "code",
      "metadata": {
        "id": "ga8P54Bc0Int",
        "colab_type": "code",
        "colab": {
          "base_uri": "https://localhost:8080/",
          "height": 38
        },
        "outputId": "edca433e-709c-455b-e931-61aa52e91b58"
      },
      "source": [
        "f = sympy.Function('f')(x)\n",
        "sympy.diff(f,x) # equivalent to f.diff(x)\n"
      ],
      "execution_count": 6,
      "outputs": [
        {
          "output_type": "execute_result",
          "data": {
            "image/png": "[encoded data removed]",
            "text/latex": "$$\\frac{d}{d x} f{\\left (x \\right )}$$",
            "text/plain": [
              "d       \n",
              "──(f(x))\n",
              "dx      "
            ]
          },
          "metadata": {
            "tags": []
          },
          "execution_count": 6
        }
      ]
    },
    {
      "cell_type": "code",
      "metadata": {
        "id": "3geP_nIE0s5h",
        "colab_type": "code",
        "colab": {
          "base_uri": "https://localhost:8080/",
          "height": 40
        },
        "outputId": "dc355edc-0bd3-4da1-88a2-b03503acbd45"
      },
      "source": [
        "sympy.diff(f, x, x)"
      ],
      "execution_count": 7,
      "outputs": [
        {
          "output_type": "execute_result",
          "data": {
            "image/png": "[encoded data removed]",
            "text/latex": "$$\\frac{d^{2}}{d x^{2}}  f{\\left (x \\right )}$$",
            "text/plain": [
              "  2      \n",
              " d       \n",
              "───(f(x))\n",
              "  2      \n",
              "dx       "
            ]
          },
          "metadata": {
            "tags": []
          },
          "execution_count": 7
        }
      ]
    },
    {
      "cell_type": "code",
      "metadata": {
        "id": "QflOdDkK0x_T",
        "colab_type": "code",
        "colab": {
          "base_uri": "https://localhost:8080/",
          "height": 40
        },
        "outputId": "d8941115-1513-4d49-be94-ea9562571e2f"
      },
      "source": [
        "sympy.diff(f, x, 3)"
      ],
      "execution_count": 8,
      "outputs": [
        {
          "output_type": "execute_result",
          "data": {
            "image/png": "[encoded data removed]",
            "text/latex": "$$\\frac{d^{3}}{d x^{3}}  f{\\left (x \\right )}$$",
            "text/plain": [
              "  3      \n",
              " d       \n",
              "───(f(x))\n",
              "  3      \n",
              "dx       "
            ]
          },
          "metadata": {
            "tags": []
          },
          "execution_count": 8
        }
      ]
    },
    {
      "cell_type": "code",
      "metadata": {
        "id": "axKdTdO20_Uu",
        "colab_type": "code",
        "colab": {
          "base_uri": "https://localhost:8080/",
          "height": 42
        },
        "outputId": "719d68c3-7de8-4db8-f45a-5d69a7ad9def"
      },
      "source": [
        "g = sympy.Function('g')(x,y)\n",
        "g.diff(x, y)"
      ],
      "execution_count": 12,
      "outputs": [
        {
          "output_type": "execute_result",
          "data": {
            "image/png": "[encoded data removed]",
            "text/latex": "$$\\frac{\\partial^{2}}{\\partial x\\partial y}  g{\\left (x,y \\right )}$$",
            "text/plain": [
              "   2          \n",
              "  ∂           \n",
              "─────(g(x, y))\n",
              "∂y ∂x         "
            ]
          },
          "metadata": {
            "tags": []
          },
          "execution_count": 12
        }
      ]
    },
    {
      "cell_type": "code",
      "metadata": {
        "id": "K7dcfOdN0_w5",
        "colab_type": "code",
        "colab": {
          "base_uri": "https://localhost:8080/",
          "height": 42
        },
        "outputId": "344d9fab-7b74-4101-88a2-4c994b56ea9d"
      },
      "source": [
        "g.diff(x, 3, y, 2)"
      ],
      "execution_count": 13,
      "outputs": [
        {
          "output_type": "execute_result",
          "data": {
            "image/png": "[encoded data removed]",
            "text/latex": "$$\\frac{\\partial^{5}}{\\partial x^{3}\\partial y^{2}}  g{\\left (x,y \\right )}$$",
            "text/plain": [
              "    5           \n",
              "   ∂            \n",
              "───────(g(x, y))\n",
              "  2   3         \n",
              "∂y  ∂x          "
            ]
          },
          "metadata": {
            "tags": []
          },
          "execution_count": 13
        }
      ]
    },
    {
      "cell_type": "code",
      "metadata": {
        "id": "c-S3Hltk1jki",
        "colab_type": "code",
        "colab": {
          "base_uri": "https://localhost:8080/",
          "height": 38
        },
        "outputId": "c7442bcb-db5f-4010-99d4-4f27b5f1d0f9"
      },
      "source": [
        "expr = x**4 + x**3 + x**2 + x + 1 \n",
        "expr.diff(x)\n"
      ],
      "execution_count": 15,
      "outputs": [
        {
          "output_type": "execute_result",
          "data": {
            "image/png": "[encoded data removed]",
            "text/latex": "$$4 x^{3} + 3 x^{2} + 2 x + 1$$",
            "text/plain": [
              "   3      2          \n",
              "4⋅x  + 3⋅x  + 2⋅x + 1"
            ]
          },
          "metadata": {
            "tags": []
          },
          "execution_count": 15
        }
      ]
    },
    {
      "cell_type": "code",
      "metadata": {
        "id": "J11LAwS51-1S",
        "colab_type": "code",
        "colab": {
          "base_uri": "https://localhost:8080/",
          "height": 38
        },
        "outputId": "0cb2514d-298b-4060-bd69-de6ba2b0da7d"
      },
      "source": [
        "\n",
        "expr.diff(x, x)"
      ],
      "execution_count": 16,
      "outputs": [
        {
          "output_type": "execute_result",
          "data": {
            "image/png": "[encoded data removed]",
            "text/latex": "$$2 \\left(6 x^{2} + 3 x + 1\\right)$$",
            "text/plain": [
              "  ⎛   2          ⎞\n",
              "2⋅⎝6⋅x  + 3⋅x + 1⎠"
            ]
          },
          "metadata": {
            "tags": []
          },
          "execution_count": 16
        }
      ]
    },
    {
      "cell_type": "code",
      "metadata": {
        "id": "OuYqJZB_2D0b",
        "colab_type": "code",
        "colab": {
          "base_uri": "https://localhost:8080/",
          "height": 39
        },
        "outputId": "6b2f528f-ed89-489b-894c-0c4b7f3f3149"
      },
      "source": [
        "expr = (x + 1)**3 * y ** 2 * (z - 1) \n",
        "expr.diff(x, y, z)"
      ],
      "execution_count": 18,
      "outputs": [
        {
          "output_type": "execute_result",
          "data": {
            "image/png": "[encoded data removed]",
            "text/latex": "$$6 y \\left(x + 1\\right)^{2}$$",
            "text/plain": [
              "           2\n",
              "6⋅y⋅(x + 1) "
            ]
          },
          "metadata": {
            "tags": []
          },
          "execution_count": 18
        }
      ]
    },
    {
      "cell_type": "code",
      "metadata": {
        "id": "dMt0Qt8P3AEU",
        "colab_type": "code",
        "colab": {
          "base_uri": "https://localhost:8080/",
          "height": 38
        },
        "outputId": "428667ff-db96-4f58-e3f5-f8a268dc7637"
      },
      "source": [
        "expr = sympy.sin(x * y) * sympy.cos(x / 2) \n",
        "expr.diff(x)"
      ],
      "execution_count": 19,
      "outputs": [
        {
          "output_type": "execute_result",
          "data": {
            "image/png": "[encoded data removed]",
            "text/latex": "$$y \\cos{\\left (\\frac{x}{2} \\right )} \\cos{\\left (x y \\right )} - \\frac{1}{2} \\sin{\\left (\\frac{x}{2} \\right )} \\sin{\\left (x y \\right )}$$",
            "text/plain": [
              "                       ⎛x⎞         \n",
              "                    sin⎜─⎟⋅sin(x⋅y)\n",
              "     ⎛x⎞               ⎝2⎠         \n",
              "y⋅cos⎜─⎟⋅cos(x⋅y) - ───────────────\n",
              "     ⎝2⎠                   2       "
            ]
          },
          "metadata": {
            "tags": []
          },
          "execution_count": 19
        }
      ]
    },
    {
      "cell_type": "code",
      "metadata": {
        "id": "Frn-4VuZ3D79",
        "colab_type": "code",
        "colab": {
          "base_uri": "https://localhost:8080/",
          "height": 53
        },
        "outputId": "bc6c3ed8-d784-4a61-9510-7dd6b405b045"
      },
      "source": [
        "expr = sympy.special.polynomials.hermite(x, 0) \n",
        "expr.diff(x).doit()"
      ],
      "execution_count": 20,
      "outputs": [
        {
          "output_type": "execute_result",
          "data": {
            "image/png": "[encoded data removed]",
            "text/latex": "$$\\frac{2^{x} \\sqrt{\\pi} \\operatorname{polygamma}{\\left (0,- \\frac{x}{2} + \\frac{1}{2} \\right )}}{2 \\Gamma{\\left(- \\frac{x}{2} + \\frac{1}{2} \\right)}} + \\frac{2^{x} \\sqrt{\\pi} \\log{\\left (2 \\right )}}{\\Gamma{\\left(- \\frac{x}{2} + \\frac{1}{2} \\right)}}$$",
            "text/plain": [
              " x             ⎛     x   1⎞               \n",
              "2 ⋅√π⋅polygamma⎜0, - ─ + ─⎟    x          \n",
              "               ⎝     2   2⎠   2 ⋅√π⋅log(2)\n",
              "─────────────────────────── + ────────────\n",
              "           ⎛  x   1⎞            ⎛  x   1⎞ \n",
              "        2⋅Γ⎜- ─ + ─⎟           Γ⎜- ─ + ─⎟ \n",
              "           ⎝  2   2⎠            ⎝  2   2⎠ "
            ]
          },
          "metadata": {
            "tags": []
          },
          "execution_count": 20
        }
      ]
    },
    {
      "cell_type": "code",
      "metadata": {
        "id": "YBJGwUjb3KK2",
        "colab_type": "code",
        "colab": {
          "base_uri": "https://localhost:8080/",
          "height": 38
        },
        "outputId": "af58f47c-63b8-4fa5-bc8f-1e909808a886"
      },
      "source": [
        "d = sympy.Derivative(sympy.exp(sympy.cos(x)), x) \n",
        "d"
      ],
      "execution_count": 21,
      "outputs": [
        {
          "output_type": "execute_result",
          "data": {
            "image/png": "[encoded data removed]",
            "text/latex": "$$\\frac{d}{d x} e^{\\cos{\\left (x \\right )}}$$",
            "text/plain": [
              "d ⎛ cos(x)⎞\n",
              "──⎝ℯ      ⎠\n",
              "dx         "
            ]
          },
          "metadata": {
            "tags": []
          },
          "execution_count": 21
        }
      ]
    },
    {
      "cell_type": "code",
      "metadata": {
        "id": "Ly6jT2sX3PAI",
        "colab_type": "code",
        "colab": {
          "base_uri": "https://localhost:8080/",
          "height": 38
        },
        "outputId": "dcea6f04-7fb8-49e5-fe0c-95570283b4e5"
      },
      "source": [
        "d.doit()"
      ],
      "execution_count": 22,
      "outputs": [
        {
          "output_type": "execute_result",
          "data": {
            "image/png": "[encoded data removed]",
            "text/latex": "$$- e^{\\cos{\\left (x \\right )}} \\sin{\\left (x \\right )}$$",
            "text/plain": [
              "  cos(x)       \n",
              "-ℯ      ⋅sin(x)"
            ]
          },
          "metadata": {
            "tags": []
          },
          "execution_count": 22
        }
      ]
    },
    {
      "cell_type": "markdown",
      "metadata": {
        "id": "2E1r40Qr3S7N",
        "colab_type": "text"
      },
      "source": [
        "Integrals"
      ]
    },
    {
      "cell_type": "code",
      "metadata": {
        "id": "VlyRSL023VfN",
        "colab_type": "code",
        "colab": {
          "base_uri": "https://localhost:8080/",
          "height": 38
        },
        "outputId": "f2b9d4f1-22b8-4b7b-b3b4-ab72978c9284"
      },
      "source": [
        "a, b, x, y = sympy.symbols(\"a, b, x, y\")\n",
        "f = sympy.Function(\"f\")(x) \n",
        "sympy.integrate(f)"
      ],
      "execution_count": 23,
      "outputs": [
        {
          "output_type": "execute_result",
          "data": {
            "image/png": "[encoded data removed]",
            "text/latex": "$$\\int f{\\left (x \\right )}\\, dx$$",
            "text/plain": [
              "⌠        \n",
              "⎮ f(x) dx\n",
              "⌡        "
            ]
          },
          "metadata": {
            "tags": []
          },
          "execution_count": 23
        }
      ]
    },
    {
      "cell_type": "code",
      "metadata": {
        "id": "EpzC_u2f3bNh",
        "colab_type": "code",
        "colab": {
          "base_uri": "https://localhost:8080/",
          "height": 41
        },
        "outputId": "19b309fc-5522-4ef3-bdf6-eade414ef922"
      },
      "source": [
        "sympy.integrate(f, (x, a, b))"
      ],
      "execution_count": 24,
      "outputs": [
        {
          "output_type": "execute_result",
          "data": {
            "image/png": "[encoded data removed]",
            "text/latex": "$$\\int_{a}^{b} f{\\left (x \\right )}\\, dx$$",
            "text/plain": [
              "b        \n",
              "⌠        \n",
              "⎮ f(x) dx\n",
              "⌡        \n",
              "a        "
            ]
          },
          "metadata": {
            "tags": []
          },
          "execution_count": 24
        }
      ]
    },
    {
      "cell_type": "code",
      "metadata": {
        "id": "oXqEiJG83fjo",
        "colab_type": "code",
        "colab": {
          "base_uri": "https://localhost:8080/",
          "height": 38
        },
        "outputId": "de1c27a6-f596-41e9-c8e8-185b084a8ef6"
      },
      "source": [
        "sympy.integrate(sympy.sin(x))"
      ],
      "execution_count": 25,
      "outputs": [
        {
          "output_type": "execute_result",
          "data": {
            "image/png": "[encoded data removed]",
            "text/latex": "$$- \\cos{\\left (x \\right )}$$",
            "text/plain": [
              "-cos(x)"
            ]
          },
          "metadata": {
            "tags": []
          },
          "execution_count": 25
        }
      ]
    },
    {
      "cell_type": "code",
      "metadata": {
        "id": "WGDBVSEy3jwM",
        "colab_type": "code",
        "colab": {
          "base_uri": "https://localhost:8080/",
          "height": 38
        },
        "outputId": "1970be70-bd9c-46c5-d261-d6db6200d570"
      },
      "source": [
        "sympy.integrate(sympy.sin(x), (x, a, b))"
      ],
      "execution_count": 26,
      "outputs": [
        {
          "output_type": "execute_result",
          "data": {
            "image/png": "[encoded data removed]",
            "text/latex": "$$\\cos{\\left (a \\right )} - \\cos{\\left (b \\right )}$$",
            "text/plain": [
              "cos(a) - cos(b)"
            ]
          },
          "metadata": {
            "tags": []
          },
          "execution_count": 26
        }
      ]
    },
    {
      "cell_type": "code",
      "metadata": {
        "id": "KS2g-rmq4kx-",
        "colab_type": "code",
        "colab": {
          "base_uri": "https://localhost:8080/",
          "height": 41
        },
        "outputId": "ae110009-746a-412d-a93f-a7414b624006"
      },
      "source": [
        "sympy.integrate(sympy.exp(-x**2), (x, 0, oo))"
      ],
      "execution_count": 29,
      "outputs": [
        {
          "output_type": "execute_result",
          "data": {
            "image/png": "[encoded data removed]",
            "text/latex": "$$\\frac{\\sqrt{\\pi}}{2}$$",
            "text/plain": [
              "√π\n",
              "──\n",
              "2 "
            ]
          },
          "metadata": {
            "tags": []
          },
          "execution_count": 29
        }
      ]
    },
    {
      "cell_type": "code",
      "metadata": {
        "id": "0B_QAU0b4R9P",
        "colab_type": "code",
        "colab": {
          "base_uri": "https://localhost:8080/",
          "height": 38
        },
        "outputId": "3f870508-7aca-414f-d469-ff6476392629"
      },
      "source": [
        "a, b, c = sympy.symbols(\"a, b, c\", positive=True) \n",
        "sympy.integrate(a * sympy.exp(-((x-b)/c)**2), (x, -oo, oo))"
      ],
      "execution_count": 27,
      "outputs": [
        {
          "output_type": "execute_result",
          "data": {
            "image/png": "[encoded data removed]",
            "text/latex": "$$\\sqrt{\\pi} a c$$",
            "text/plain": [
              "√π⋅a⋅c"
            ]
          },
          "metadata": {
            "tags": []
          },
          "execution_count": 27
        }
      ]
    },
    {
      "cell_type": "code",
      "metadata": {
        "id": "3mbmbQ154rMo",
        "colab_type": "code",
        "colab": {
          "base_uri": "https://localhost:8080/",
          "height": 38
        },
        "outputId": "07b2161d-216b-4b6b-9151-74999749cd32"
      },
      "source": [
        "sympy.integrate(sympy.sin(x * sympy.cos(x)))"
      ],
      "execution_count": 30,
      "outputs": [
        {
          "output_type": "execute_result",
          "data": {
            "image/png": "[encoded data removed]",
            "text/latex": "$$\\int \\sin{\\left (x \\cos{\\left (x \\right )} \\right )}\\, dx$$",
            "text/plain": [
              "⌠                 \n",
              "⎮ sin(x⋅cos(x)) dx\n",
              "⌡                 "
            ]
          },
          "metadata": {
            "tags": []
          },
          "execution_count": 30
        }
      ]
    },
    {
      "cell_type": "code",
      "metadata": {
        "id": "G-PPb7b04uMX",
        "colab_type": "code",
        "colab": {
          "base_uri": "https://localhost:8080/",
          "height": 38
        },
        "outputId": "e03be66b-417a-4046-980b-e8d561314766"
      },
      "source": [
        "expr = sympy.sin(x*sympy.exp(y)) \n",
        "sympy.integrate(expr, x)"
      ],
      "execution_count": 31,
      "outputs": [
        {
          "output_type": "execute_result",
          "data": {
            "image/png": "[encoded data removed]",
            "text/latex": "$$- e^{- y} \\cos{\\left (x e^{y} \\right )}$$",
            "text/plain": [
              "  -y    ⎛   y⎞\n",
              "-ℯ  ⋅cos⎝x⋅ℯ ⎠"
            ]
          },
          "metadata": {
            "tags": []
          },
          "execution_count": 31
        }
      ]
    },
    {
      "cell_type": "code",
      "metadata": {
        "id": "iUPEZYkT4xse",
        "colab_type": "code",
        "colab": {
          "base_uri": "https://localhost:8080/",
          "height": 40
        },
        "outputId": "630636de-f509-456e-eb34-f1f30948fa46"
      },
      "source": [
        "expr = (x + y)**2 \n",
        "sympy.integrate(expr, x)"
      ],
      "execution_count": 32,
      "outputs": [
        {
          "output_type": "execute_result",
          "data": {
            "image/png": "[encoded data removed]",
            "text/latex": "$$\\frac{x^{3}}{3} + x^{2} y + x y^{2}$$",
            "text/plain": [
              " 3              \n",
              "x     2        2\n",
              "── + x ⋅y + x⋅y \n",
              "3               "
            ]
          },
          "metadata": {
            "tags": []
          },
          "execution_count": 32
        }
      ]
    },
    {
      "cell_type": "code",
      "metadata": {
        "id": "Ma1OmFD8424Y",
        "colab_type": "code",
        "colab": {
          "base_uri": "https://localhost:8080/",
          "height": 41
        },
        "outputId": "7721aa7f-0bf9-4dc3-a6ab-d53896d45b46"
      },
      "source": [
        "sympy.integrate(expr, x, y)"
      ],
      "execution_count": 33,
      "outputs": [
        {
          "output_type": "execute_result",
          "data": {
            "image/png": "[encoded data removed]",
            "text/latex": "$$\\frac{x^{3} y}{3} + \\frac{x^{2} y^{2}}{2} + \\frac{x y^{3}}{3}$$",
            "text/plain": [
              " 3      2  2      3\n",
              "x ⋅y   x ⋅y    x⋅y \n",
              "──── + ───── + ────\n",
              " 3       2      3  "
            ]
          },
          "metadata": {
            "tags": []
          },
          "execution_count": 33
        }
      ]
    },
    {
      "cell_type": "code",
      "metadata": {
        "id": "EpDRj6_844HO",
        "colab_type": "code",
        "colab": {
          "base_uri": "https://localhost:8080/",
          "height": 38
        },
        "outputId": "3f10cd74-c257-4c12-d182-c6f1561afe2f"
      },
      "source": [
        "sympy.integrate(expr, (x, 0, 1), (y, 0, 1))"
      ],
      "execution_count": 35,
      "outputs": [
        {
          "output_type": "execute_result",
          "data": {
            "image/png": "[encoded data removed]",
            "text/latex": "$$\\frac{7}{6}$$",
            "text/plain": [
              "7/6"
            ]
          },
          "metadata": {
            "tags": []
          },
          "execution_count": 35
        }
      ]
    }
  ]
}