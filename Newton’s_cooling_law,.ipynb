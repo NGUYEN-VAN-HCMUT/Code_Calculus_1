{
  "nbformat": 4,
  "nbformat_minor": 0,
  "metadata": {
    "colab": {
      "name": "Newton’s_cooling law,.ipynb",
      "provenance": [],
      "authorship_tag": "ABX9TyOcBao9QG59kBAa2VK2Rnrn",
      "include_colab_link": true
    },
    "kernelspec": {
      "name": "python3",
      "display_name": "Python 3"
    }
  },
  "cells": [
    {
      "cell_type": "markdown",
      "metadata": {
        "id": "view-in-github",
        "colab_type": "text"
      },
      "source": [
        "<a href=\"https://colab.research.google.com/github/NGUYEN-VAN-HCMUT/Code_Calculus_1/blob/master/Newton%E2%80%99s_cooling_law%2C.ipynb\" target=\"_parent\"><img src=\"https://colab.research.google.com/assets/colab-badge.svg\" alt=\"Open In Colab\"/></a>"
      ]
    },
    {
      "cell_type": "markdown",
      "metadata": {
        "id": "CEzofsbtB8hk",
        "colab_type": "text"
      },
      "source": [
        "The first example is the simple first-order ODE for Newton’s\n",
        "cooling law, $ \\frac{dT (t )}{dt} = -k (T (t ) - T_a )$, with the initial value $T (0) = T_0$ ."
      ]
    },
    {
      "cell_type": "code",
      "metadata": {
        "id": "8P2x7OREBwm6",
        "colab_type": "code",
        "colab": {}
      },
      "source": [
        "import numpy as np\n",
        "import matplotlib.pyplot as plt\n",
        "from scipy import integrate\n",
        "import sympy\n",
        "sympy.init_printing()\n",
        "x = sympy.symbols(\"x\")\n",
        "y = sympy.Function(\"y\")\n",
        "T = sympy.Function(\"T\")"
      ],
      "execution_count": 2,
      "outputs": []
    },
    {
      "cell_type": "markdown",
      "metadata": {
        "id": "3KErHblQE8B8",
        "colab_type": "text"
      },
      "source": [
        "First method"
      ]
    },
    {
      "cell_type": "code",
      "metadata": {
        "id": "mfGWvknrCPEe",
        "colab_type": "code",
        "colab": {}
      },
      "source": [
        "t, k, T0, Ta = sympy.symbols(\"t, k, T_0, T_a\")\n"
      ],
      "execution_count": 3,
      "outputs": []
    },
    {
      "cell_type": "code",
      "metadata": {
        "id": "I3g943THCiwF",
        "colab_type": "code",
        "colab": {
          "base_uri": "https://localhost:8080/",
          "height": 38
        },
        "outputId": "f6b2a989-0d06-4ff0-f33a-d5e486c0db1f"
      },
      "source": [
        "ode = T(t).diff(t) + k*(T(t) - Ta)\n",
        "sympy.Eq(ode)"
      ],
      "execution_count": 4,
      "outputs": [
        {
          "output_type": "execute_result",
          "data": {
            "image/png": "[encoded data removed]",
            "text/latex": "$$k \\left(- T_{a} + T{\\left (t \\right )}\\right) + \\frac{d}{d t} T{\\left (t \\right )} = 0$$",
            "text/plain": [
              "                 d           \n",
              "k⋅(-Tₐ + T(t)) + ──(T(t)) = 0\n",
              "                 dt          "
            ]
          },
          "metadata": {
            "tags": []
          },
          "execution_count": 4
        }
      ]
    },
    {
      "cell_type": "code",
      "metadata": {
        "id": "0kP9qc7MCnI4",
        "colab_type": "code",
        "colab": {
          "base_uri": "https://localhost:8080/",
          "height": 38
        },
        "outputId": "7b75b384-84e2-4fcb-bb02-8ed52a0ccc4e"
      },
      "source": [
        "ode_sol = sympy.dsolve(ode)\n",
        "ode_sol"
      ],
      "execution_count": 5,
      "outputs": [
        {
          "output_type": "execute_result",
          "data": {
            "image/png": "[encoded data removed]",
            "text/latex": "$$T{\\left (t \\right )} = C_{1} e^{- k t} + T_{a}$$",
            "text/plain": [
              "           -k⋅t     \n",
              "T(t) = C₁⋅ℯ     + Tₐ"
            ]
          },
          "metadata": {
            "tags": []
          },
          "execution_count": 5
        }
      ]
    },
    {
      "cell_type": "code",
      "metadata": {
        "id": "TkVyMv0yCrHL",
        "colab_type": "code",
        "colab": {
          "base_uri": "https://localhost:8080/",
          "height": 38
        },
        "outputId": "30cf8e2a-9176-408c-8cf9-34a5e94cfa47"
      },
      "source": [
        "ode_sol.lhs"
      ],
      "execution_count": 6,
      "outputs": [
        {
          "output_type": "execute_result",
          "data": {
            "image/png": "[encoded data removed]",
            "text/latex": "$$T{\\left (t \\right )}$$",
            "text/plain": [
              "T(t)"
            ]
          },
          "metadata": {
            "tags": []
          },
          "execution_count": 6
        }
      ]
    },
    {
      "cell_type": "code",
      "metadata": {
        "id": "T0JmTOmhCt6h",
        "colab_type": "code",
        "colab": {
          "base_uri": "https://localhost:8080/",
          "height": 38
        },
        "outputId": "b7a7a9d0-ae34-4530-80dc-d836b9955d41"
      },
      "source": [
        "ode_sol.rhs"
      ],
      "execution_count": 7,
      "outputs": [
        {
          "output_type": "execute_result",
          "data": {
            "image/png": "[encoded data removed]",
            "text/latex": "$$C_{1} e^{- k t} + T_{a}$$",
            "text/plain": [
              "    -k⋅t     \n",
              "C₁⋅ℯ     + Tₐ"
            ]
          },
          "metadata": {
            "tags": []
          },
          "execution_count": 7
        }
      ]
    },
    {
      "cell_type": "code",
      "metadata": {
        "id": "1nPyGeQPCxjQ",
        "colab_type": "code",
        "colab": {
          "base_uri": "https://localhost:8080/",
          "height": 38
        },
        "outputId": "00f38242-6ff4-4a14-a666-b47903440dd5"
      },
      "source": [
        "ics = {T(0): T0}\n",
        "ics"
      ],
      "execution_count": 8,
      "outputs": [
        {
          "output_type": "execute_result",
          "data": {
            "image/png": "[encoded data removed]",
            "text/latex": "$$\\left \\{ T{\\left (0 \\right )} : T_{0}\\right \\}$$",
            "text/plain": [
              "{T(0): T₀}"
            ]
          },
          "metadata": {
            "tags": []
          },
          "execution_count": 8
        }
      ]
    },
    {
      "cell_type": "code",
      "metadata": {
        "id": "qI302d4nC041",
        "colab_type": "code",
        "colab": {
          "base_uri": "https://localhost:8080/",
          "height": 38
        },
        "outputId": "1ad34ae6-ec0a-4350-bdc6-d22522c7251f"
      },
      "source": [
        "C_eq = sympy.Eq(ode_sol.lhs.subs(t, 0).subs(ics), ode_sol.rhs.subs(t, 0))\n",
        "C_eq"
      ],
      "execution_count": 9,
      "outputs": [
        {
          "output_type": "execute_result",
          "data": {
            "image/png": "[encoded data removed]",
            "text/latex": "$$T_{0} = C_{1} + T_{a}$$",
            "text/plain": [
              "T₀ = C₁ + Tₐ"
            ]
          },
          "metadata": {
            "tags": []
          },
          "execution_count": 9
        }
      ]
    },
    {
      "cell_type": "code",
      "metadata": {
        "id": "9TP9OrSpC5iP",
        "colab_type": "code",
        "colab": {
          "base_uri": "https://localhost:8080/",
          "height": 38
        },
        "outputId": "b974396d-1411-43c0-f93e-354c988e8839"
      },
      "source": [
        "C_sol = sympy.solve(C_eq)\n",
        "C_sol"
      ],
      "execution_count": 10,
      "outputs": [
        {
          "output_type": "execute_result",
          "data": {
            "image/png": "[encoded data removed]",
            "text/latex": "$$\\left [ \\left \\{ C_{1} : T_{0} - T_{a}\\right \\}\\right ]$$",
            "text/plain": [
              "[{C₁: T₀ - Tₐ}]"
            ]
          },
          "metadata": {
            "tags": []
          },
          "execution_count": 10
        }
      ]
    },
    {
      "cell_type": "code",
      "metadata": {
        "id": "ILY-zfSrC9TD",
        "colab_type": "code",
        "colab": {
          "base_uri": "https://localhost:8080/",
          "height": 38
        },
        "outputId": "a319f809-0ba6-4e5c-eb7d-599438cdcf65"
      },
      "source": [
        "ode_sol.subs(C_sol[0])"
      ],
      "execution_count": 11,
      "outputs": [
        {
          "output_type": "execute_result",
          "data": {
            "image/png": "[encoded data removed]",
            "text/latex": "$$T{\\left (t \\right )} = T_{a} + \\left(T_{0} - T_{a}\\right) e^{- k t}$$",
            "text/plain": [
              "                       -k⋅t\n",
              "T(t) = Tₐ + (T₀ - Tₐ)⋅ℯ    "
            ]
          },
          "metadata": {
            "tags": []
          },
          "execution_count": 11
        }
      ]
    },
    {
      "cell_type": "markdown",
      "metadata": {
        "id": "IpfW1iahEKHj",
        "colab_type": "text"
      },
      "source": [
        "Second method"
      ]
    },
    {
      "cell_type": "code",
      "metadata": {
        "id": "VLG3JAzMER_V",
        "colab_type": "code",
        "colab": {}
      },
      "source": [
        "def apply_ics(sol, ics, x, known_params):\n",
        " \n",
        "    \"\"\"Apply the initial conditions (ics), given as a dictionary on\n",
        "    the form ics = {y(0): y0, y(x).diff(x).subs(x, 0): yp0, ...},\n",
        "    to the solution of the ODE with independent variable x.\n",
        "    The undetermined integration constants C1, C2, ... are extracted\n",
        "    from the free symbols of the ODE solution, excluding symbols in\n",
        "    the known_params list.\n",
        "    \"\"\"\n",
        "    free_params = sol.free_symbols - set(known_params)\n",
        "    eqs = [(sol.lhs.diff(x, n) - sol.rhs.diff(x, n)).subs(x, 0).subs(ics)\n",
        "        for n in range(len(ics))]\n",
        "    sol_params = sympy.solve(eqs, free_params)\n",
        "    return sol.subs(sol_params)"
      ],
      "execution_count": 14,
      "outputs": []
    },
    {
      "cell_type": "code",
      "metadata": {
        "id": "p0_xxG4aEjmi",
        "colab_type": "code",
        "colab": {
          "base_uri": "https://localhost:8080/",
          "height": 38
        },
        "outputId": "85927b1e-f3b8-4bef-89aa-8891139900c2"
      },
      "source": [
        "ode_sol"
      ],
      "execution_count": 15,
      "outputs": [
        {
          "output_type": "execute_result",
          "data": {
            "image/png": "[encoded data removed]",
            "text/latex": "$$T{\\left (t \\right )} = C_{1} e^{- k t} + T_{a}$$",
            "text/plain": [
              "           -k⋅t     \n",
              "T(t) = C₁⋅ℯ     + Tₐ"
            ]
          },
          "metadata": {
            "tags": []
          },
          "execution_count": 15
        }
      ]
    },
    {
      "cell_type": "code",
      "metadata": {
        "id": "UOoTvsfBEmXP",
        "colab_type": "code",
        "colab": {
          "base_uri": "https://localhost:8080/",
          "height": 38
        },
        "outputId": "535b2ce4-b94c-4cec-e996-82cb2a07045f"
      },
      "source": [
        "apply_ics(ode_sol, ics, t, [k, Ta])"
      ],
      "execution_count": 16,
      "outputs": [
        {
          "output_type": "execute_result",
          "data": {
            "image/png": "[encoded data removed]",
            "text/latex": "$$T{\\left (t \\right )} = T_{a} + \\left(T_{0} - T_{a}\\right) e^{- k t}$$",
            "text/plain": [
              "                       -k⋅t\n",
              "T(t) = Tₐ + (T₀ - Tₐ)⋅ℯ    "
            ]
          },
          "metadata": {
            "tags": []
          },
          "execution_count": 16
        }
      ]
    }
  ]
}