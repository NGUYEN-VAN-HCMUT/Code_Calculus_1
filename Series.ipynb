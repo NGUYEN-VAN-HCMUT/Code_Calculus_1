{
  "nbformat": 4,
  "nbformat_minor": 0,
  "metadata": {
    "colab": {
      "name": "Series.ipynb",
      "provenance": [],
      "authorship_tag": "ABX9TyMo6B9gQOcG2KLeo6PQXOzx",
      "include_colab_link": true
    },
    "kernelspec": {
      "name": "python3",
      "display_name": "Python 3"
    }
  },
  "cells": [
    {
      "cell_type": "markdown",
      "metadata": {
        "id": "view-in-github",
        "colab_type": "text"
      },
      "source": [
        "<a href=\"https://colab.research.google.com/github/NGUYEN-VAN-HCMUT/Code_Calculus_1/blob/master/Series.ipynb\" target=\"_parent\"><img src=\"https://colab.research.google.com/assets/colab-badge.svg\" alt=\"Open In Colab\"/></a>"
      ]
    },
    {
      "cell_type": "markdown",
      "metadata": {
        "id": "uWV1GA7c7dlm",
        "colab_type": "text"
      },
      "source": [
        "Series"
      ]
    },
    {
      "cell_type": "code",
      "metadata": {
        "id": "SQAunWlw7jt0",
        "colab_type": "code",
        "colab": {}
      },
      "source": [
        "import sympy\n",
        "sympy.init_printing()\n",
        "from sympy import I, pi, oo\n",
        "x = sympy.Symbol(\"x\")\n",
        "y = sympy.Symbol(\"y\")\n",
        "z = sympy.Symbol(\"z\")"
      ],
      "execution_count": 2,
      "outputs": []
    },
    {
      "cell_type": "code",
      "metadata": {
        "id": "whLyAHab7c-o",
        "colab_type": "code",
        "colab": {
          "base_uri": "https://localhost:8080/",
          "height": 51
        },
        "outputId": "cadf732e-7b0f-47cd-b619-a3b58b6d47b9"
      },
      "source": [
        "x = sympy.Symbol(\"x\")\n",
        "f = sympy.Function(\"f\")(x) \n",
        "sympy.series(f, x)"
      ],
      "execution_count": 3,
      "outputs": [
        {
          "output_type": "execute_result",
          "data": {
            "text/latex": "$$f{\\left (0 \\right )} + x \\left. \\frac{d}{d x} f{\\left (x \\right )} \\right|_{\\substack{ x=0 }} + \\frac{x^{2}}{2} \\left. \\frac{d^{2}}{d x^{2}}  f{\\left (x \\right )} \\right|_{\\substack{ x=0 }} + \\frac{x^{3}}{6} \\left. \\frac{d^{3}}{d x^{3}}  f{\\left (x \\right )} \\right|_{\\substack{ x=0 }} + \\frac{x^{4}}{24} \\left. \\frac{d^{4}}{d x^{4}}  f{\\left (x \\right )} \\right|_{\\substack{ x=0 }} + \\frac{x^{5}}{120} \\left. \\frac{d^{5}}{d x^{5}}  f{\\left (x \\right )} \\right|_{\\substack{ x=0 }} + \\mathcal{O}\\left(x^{6}\\right)$$",
            "text/plain": [
              "                             ⎛  2      ⎞│         ⎛  3      ⎞│         ⎛  4   \n",
              "                           2 ⎜ d       ⎟│       3 ⎜ d       ⎟│       4 ⎜ d    \n",
              "                          x ⋅⎜───(f(x))⎟│      x ⋅⎜───(f(x))⎟│      x ⋅⎜───(f(\n",
              "                             ⎜  2      ⎟│         ⎜  3      ⎟│         ⎜  4   \n",
              "         ⎛d       ⎞│         ⎝dx       ⎠│x=0      ⎝dx       ⎠│x=0      ⎝dx    \n",
              "f(0) + x⋅⎜──(f(x))⎟│    + ────────────────── + ────────────────── + ──────────\n",
              "         ⎝dx      ⎠│x=0           2                    6                    24\n",
              "\n",
              "   ⎞│         ⎛  5      ⎞│           \n",
              "   ⎟│       5 ⎜ d       ⎟│           \n",
              "x))⎟│      x ⋅⎜───(f(x))⎟│           \n",
              "   ⎟│         ⎜  5      ⎟│           \n",
              "   ⎠│x=0      ⎝dx       ⎠│x=0    ⎛ 6⎞\n",
              "──────── + ────────────────── + O⎝x ⎠\n",
              "                  120                "
            ]
          },
          "metadata": {
            "tags": []
          },
          "execution_count": 3
        }
      ]
    },
    {
      "cell_type": "code",
      "metadata": {
        "id": "lMWyqeec7p-1",
        "colab_type": "code",
        "colab": {
          "base_uri": "https://localhost:8080/",
          "height": 51
        },
        "outputId": "6fb96ea7-7780-461a-c28a-bfb44309ea21"
      },
      "source": [
        "x0 = sympy.Symbol(\"{x_0}\")\n",
        "f.series(x, x0, n=2)"
      ],
      "execution_count": 4,
      "outputs": [
        {
          "output_type": "execute_result",
          "data": {
            "text/latex": "$$f{\\left ({x_0} \\right )} + \\left(x - {x_0}\\right) \\left. \\frac{d}{d \\xi_{1}} f{\\left (\\xi_{1} \\right )} \\right|_{\\substack{ \\xi_{1}={x_0} }} + \\mathcal{O}\\left(\\left(x - {x_0}\\right)^{2}; x\\rightarrow {x_0}\\right)$$",
            "text/plain": [
              "                       ⎛ d        ⎞│            ⎛           2           ⎞\n",
              "f({x_0}) + (x - {x_0})⋅⎜───(f(ξ₁))⎟│         + O⎝(x - {x_0}) ; x → {x_0}⎠\n",
              "                       ⎝dξ₁       ⎠│ξ₁={x_0}                             "
            ]
          },
          "metadata": {
            "tags": []
          },
          "execution_count": 4
        }
      ]
    },
    {
      "cell_type": "code",
      "metadata": {
        "id": "0bQW9hsP7uLO",
        "colab_type": "code",
        "colab": {
          "base_uri": "https://localhost:8080/",
          "height": 51
        },
        "outputId": "de9e7116-ba67-463a-96fd-ad552fd03dbb"
      },
      "source": [
        "f.series(x, x0, n=2).removeO()"
      ],
      "execution_count": 5,
      "outputs": [
        {
          "output_type": "execute_result",
          "data": {
            "text/latex": "$$\\left(x - {x_0}\\right) \\left. \\frac{d}{d \\xi_{1}} f{\\left (\\xi_{1} \\right )} \\right|_{\\substack{ \\xi_{1}={x_0} }} + f{\\left ({x_0} \\right )}$$",
            "text/plain": [
              "            ⎛ d        ⎞│                   \n",
              "(x - {x_0})⋅⎜───(f(ξ₁))⎟│         + f({x_0})\n",
              "            ⎝dξ₁       ⎠│ξ₁={x_0}           "
            ]
          },
          "metadata": {
            "tags": []
          },
          "execution_count": 5
        }
      ]
    },
    {
      "cell_type": "code",
      "metadata": {
        "id": "SHjFTgl07ySF",
        "colab_type": "code",
        "colab": {
          "base_uri": "https://localhost:8080/",
          "height": 40
        },
        "outputId": "3ece7889-c761-4b73-dbb6-78ab0ffc5199"
      },
      "source": [
        "sympy.cos(x).series()"
      ],
      "execution_count": 6,
      "outputs": [
        {
          "output_type": "execute_result",
          "data": {
            "image/png": "[encoded data removed]",
            "text/latex": "$$1 - \\frac{x^{2}}{2} + \\frac{x^{4}}{24} + \\mathcal{O}\\left(x^{6}\\right)$$",
            "text/plain": [
              "     2    4        \n",
              "    x    x     ⎛ 6⎞\n",
              "1 - ── + ── + O⎝x ⎠\n",
              "    2    24        "
            ]
          },
          "metadata": {
            "tags": []
          },
          "execution_count": 6
        }
      ]
    },
    {
      "cell_type": "code",
      "metadata": {
        "id": "oyRUnkUT7zbi",
        "colab_type": "code",
        "colab": {
          "base_uri": "https://localhost:8080/",
          "height": 40
        },
        "outputId": "3abf0c4e-a264-45b1-ecc3-c8ceff3a8f18"
      },
      "source": [
        "sympy.sin(x).series()"
      ],
      "execution_count": 7,
      "outputs": [
        {
          "output_type": "execute_result",
          "data": {
            "image/png": "[encoded data removed]",
            "text/latex": "$$x - \\frac{x^{3}}{6} + \\frac{x^{5}}{120} + \\mathcal{O}\\left(x^{6}\\right)$$",
            "text/plain": [
              "     3     5        \n",
              "    x     x     ⎛ 6⎞\n",
              "x - ── + ─── + O⎝x ⎠\n",
              "    6    120        "
            ]
          },
          "metadata": {
            "tags": []
          },
          "execution_count": 7
        }
      ]
    },
    {
      "cell_type": "code",
      "metadata": {
        "id": "Ch4uiARh74BS",
        "colab_type": "code",
        "colab": {
          "base_uri": "https://localhost:8080/",
          "height": 40
        },
        "outputId": "330769ce-1830-417c-9ea7-4348c32eef66"
      },
      "source": [
        "sympy.exp(x).series()"
      ],
      "execution_count": 22,
      "outputs": [
        {
          "output_type": "execute_result",
          "data": {
            "image/png": "[encoded data removed]",
            "text/latex": "$$1 + x + \\frac{x^{2}}{2} + \\frac{x^{3}}{6} + \\frac{x^{4}}{24} + \\frac{x^{5}}{120} + \\mathcal{O}\\left(x^{6}\\right)$$",
            "text/plain": [
              "         2    3    4     5        \n",
              "        x    x    x     x     ⎛ 6⎞\n",
              "1 + x + ── + ── + ── + ─── + O⎝x ⎠\n",
              "        2    6    24   120        "
            ]
          },
          "metadata": {
            "tags": []
          },
          "execution_count": 22
        }
      ]
    },
    {
      "cell_type": "code",
      "metadata": {
        "id": "GFjgm-3M76pk",
        "colab_type": "code",
        "colab": {
          "base_uri": "https://localhost:8080/",
          "height": 47
        },
        "outputId": "a5b81c70-5ad0-4b26-ea1f-8db9d0826cdc"
      },
      "source": [
        "expr = sympy.cos(x)/(1 + sympy.sin(x * y))\n",
        "expr.series(x, n=4)"
      ],
      "execution_count": 20,
      "outputs": [
        {
          "output_type": "execute_result",
          "data": {
            "image/png": "[encoded data removed]",
            "text/latex": "$$1 - x y + x^{2} \\left(y^{2} - \\frac{1}{2}\\right) + x^{3} \\left(- \\frac{5 y^{3}}{6} + \\frac{y}{2}\\right) + \\mathcal{O}\\left(x^{4}\\right)$$",
            "text/plain": [
              "                           ⎛     3    ⎞        \n",
              "           2 ⎛ 2   1⎞    3 ⎜  5⋅y    y⎟    ⎛ 4⎞\n",
              "1 - x⋅y + x ⋅⎜y  - ─⎟ + x ⋅⎜- ──── + ─⎟ + O⎝x ⎠\n",
              "             ⎝     2⎠      ⎝   6     2⎠        "
            ]
          },
          "metadata": {
            "tags": []
          },
          "execution_count": 20
        }
      ]
    },
    {
      "cell_type": "code",
      "metadata": {
        "id": "KeWfwnRd9wlk",
        "colab_type": "code",
        "colab": {
          "base_uri": "https://localhost:8080/",
          "height": 40
        },
        "outputId": "0976ce26-92b0-4fd1-b6d7-72c267aa8e38"
      },
      "source": [
        "expr.series(y, n=4)"
      ],
      "execution_count": 23,
      "outputs": [
        {
          "output_type": "execute_result",
          "data": {
            "image/png": "[encoded data removed]",
            "text/latex": "$$\\cos{\\left (x \\right )} - x y \\cos{\\left (x \\right )} + x^{2} y^{2} \\cos{\\left (x \\right )} - \\frac{5 x^{3}}{6} y^{3} \\cos{\\left (x \\right )} + \\mathcal{O}\\left(y^{4}\\right)$$",
            "text/plain": [
              "                                        3  3               \n",
              "                       2  2          5⋅x ⋅y ⋅cos(x)    ⎛ 4⎞\n",
              "cos(x) - x⋅y⋅cos(x) + x ⋅y ⋅cos(x) - ────────────── + O⎝y ⎠\n",
              "                                           6               "
            ]
          },
          "metadata": {
            "tags": []
          },
          "execution_count": 23
        }
      ]
    }
  ]
}